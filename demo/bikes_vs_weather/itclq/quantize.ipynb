{
 "cells": [
  {
   "cell_type": "markdown",
   "metadata": {},
   "source": []
  },
  {
   "cell_type": "code",
   "execution_count": 37,
   "metadata": {},
   "outputs": [],
   "source": [
    "import importlib\n",
    "import itcl_quantizer \n",
    "importlib.reload(itcl_quantizer)\n",
    "from itcl_quantizer import keras_build\n",
    "import numpy as np\n",
    "from itcl_inference_engine.network.Network import Network"
   ]
  },
  {
   "cell_type": "code",
   "execution_count": 38,
   "metadata": {},
   "outputs": [],
   "source": [
    "from typing import TypedDict\n",
    "\n",
    "\n",
    "class DataType(TypedDict):\n",
    "    train_x: np.ndarray\n",
    "    train_y: np.ndarray\n",
    "    test_x: np.ndarray\n",
    "    test_y: np.ndarray\n",
    "    X: np.ndarray\n",
    "    Y: np.ndarray\n",
    "data: DataType = np.load(\"../data.npy\")"
   ]
  },
  {
   "cell_type": "code",
   "execution_count": 49,
   "metadata": {},
   "outputs": [],
   "source": [
    "def loss(net: Network) -> float:\n",
    "\n",
    "    res = net.infer(data['test_x']).squeeze()\n",
    "\n",
    "    mse = np.square(res - data['test_y']).mean()\n",
    "    return mse"
   ]
  },
  {
   "cell_type": "code",
   "execution_count": 67,
   "metadata": {},
   "outputs": [
    {
     "name": "stdout",
     "output_type": "stream",
     "text": [
      "Loaded model ../model.h5 with 6 layers\n",
      "Final Network Loss: 0.009280820424624046\n"
     ]
    },
    {
     "name": "stderr",
     "output_type": "stream",
     "text": [
      "c:\\users\\jorge.ruiz\\documents\\documentación\\quantization\\quantize-inference\\quantizer\\itcl_quantizer\\tensor_extractor\\keras\\KerasBuilder.py:89: ResourceWarning: unclosed file <_io.TextIOWrapper name='quant_keras_model.json' mode='w' encoding='cp1252'>\n",
      "  json.dump(network.as_json(), open(output_path, \"w\"))\n",
      "ResourceWarning: Enable tracemalloc to get the object allocation traceback\n"
     ]
    }
   ],
   "source": [
    "\n",
    "network = keras_build(\"../model.h5\", \"quant_keras_model.json\", data[\"train_x\"], None )\n",
    "\n",
    "print(f\"Final Network Loss: {loss(network.as_sequential_network())}\")"
   ]
  },
  {
   "cell_type": "code",
   "execution_count": 68,
   "metadata": {},
   "outputs": [],
   "source": [
    "x, y = data['train_x'], data['train_y']"
   ]
  },
  {
   "cell_type": "code",
   "execution_count": 69,
   "metadata": {},
   "outputs": [
    {
     "data": {
      "text/plain": [
       "(213,)"
      ]
     },
     "execution_count": 69,
     "metadata": {},
     "output_type": "execute_result"
    }
   ],
   "source": [
    "res = network.as_sequential_network().infer(x).squeeze()\n",
    "res.shape"
   ]
  },
  {
   "cell_type": "code",
   "execution_count": 71,
   "metadata": {},
   "outputs": [
    {
     "data": {
      "text/plain": [
       "0.007013229598534612"
      ]
     },
     "execution_count": 71,
     "metadata": {},
     "output_type": "execute_result"
    }
   ],
   "source": [
    "np.square(res - y).mean()"
   ]
  },
  {
   "cell_type": "code",
   "execution_count": null,
   "metadata": {},
   "outputs": [],
   "source": []
  }
 ],
 "metadata": {
  "kernelspec": {
   "display_name": "Python 3.10.5 ('.venv': poetry)",
   "language": "python",
   "name": "python3"
  },
  "language_info": {
   "codemirror_mode": {
    "name": "ipython",
    "version": 3
   },
   "file_extension": ".py",
   "mimetype": "text/x-python",
   "name": "python",
   "nbconvert_exporter": "python",
   "pygments_lexer": "ipython3",
   "version": "3.10.5"
  },
  "orig_nbformat": 4,
  "vscode": {
   "interpreter": {
    "hash": "ea05026aa6a55cfc5585c0c63cb63d539f3a1a7305bab792a4296882521b8c95"
   }
  }
 },
 "nbformat": 4,
 "nbformat_minor": 2
}
