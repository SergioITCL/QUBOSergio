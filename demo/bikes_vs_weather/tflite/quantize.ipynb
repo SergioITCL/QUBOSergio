{
 "cells": [
  {
   "cell_type": "code",
   "execution_count": 11,
   "metadata": {},
   "outputs": [],
   "source": [
    "import tensorflow as tf\n",
    "import numpy as np"
   ]
  },
  {
   "cell_type": "code",
   "execution_count": 12,
   "metadata": {},
   "outputs": [],
   "source": [
    "from typing import TypedDict\n",
    "\n",
    "\n",
    "class DataType(TypedDict):\n",
    "    train_x: np.ndarray\n",
    "    train_y: np.ndarray\n",
    "    test_x: np.ndarray\n",
    "    test_y: np.ndarray\n",
    "    X: np.ndarray\n",
    "    Y: np.ndarray\n",
    "data: DataType = np.load(\"../data.npy\")"
   ]
  },
  {
   "cell_type": "code",
   "execution_count": 13,
   "metadata": {},
   "outputs": [
    {
     "name": "stdout",
     "output_type": "stream",
     "text": [
      "Model: \"sequential_14\"\n",
      "_________________________________________________________________\n",
      " Layer (type)                Output Shape              Param #   \n",
      "=================================================================\n",
      " dense_104 (Dense)           (None, 8)                 48        \n",
      "                                                                 \n",
      " dense_105 (Dense)           (None, 16)                144       \n",
      "                                                                 \n",
      " dense_106 (Dense)           (None, 64)                1088      \n",
      "                                                                 \n",
      " dense_107 (Dense)           (None, 16)                1040      \n",
      "                                                                 \n",
      " dense_108 (Dense)           (None, 8)                 136       \n",
      "                                                                 \n",
      " dense_109 (Dense)           (None, 1)                 9         \n",
      "                                                                 \n",
      "=================================================================\n",
      "Total params: 2,465\n",
      "Trainable params: 2,465\n",
      "Non-trainable params: 0\n",
      "_________________________________________________________________\n"
     ]
    }
   ],
   "source": [
    "model = tf.keras.models.load_model(\"../model.h5\")\n",
    "model.summary()"
   ]
  },
  {
   "cell_type": "code",
   "execution_count": 14,
   "metadata": {},
   "outputs": [
    {
     "name": "stdout",
     "output_type": "stream",
     "text": [
      "INFO:tensorflow:Assets written to: C:\\Users\\JORGE~1.RUI\\AppData\\Local\\Temp\\tmpomjx35mx\\assets\n"
     ]
    },
    {
     "name": "stderr",
     "output_type": "stream",
     "text": [
      "c:\\Users\\jorge.ruiz\\Documents\\Documentación\\Quantization\\Quantize-Inference\\demo\\.venv\\lib\\site-packages\\tensorflow\\lite\\python\\convert.py:766: UserWarning: Statistics for quantized inputs were expected, but not specified; continuing anyway.\n",
      "  warnings.warn(\"Statistics for quantized inputs were expected, but not \"\n"
     ]
    }
   ],
   "source": [
    "def representative_data_gen():\n",
    "  for input_value in data['train_x'].astype(\"float32\"):\n",
    "    yield [input_value]\n",
    "\n",
    "converter = tf.lite.TFLiteConverter.from_keras_model(model)\n",
    "converter.optimizations = [tf.lite.Optimize.DEFAULT]\n",
    "converter.representative_dataset = representative_data_gen\n",
    "# Ensure that if any ops can't be quantized, the converter throws an error\n",
    "converter.target_spec.supported_ops = [tf.lite.OpsSet.TFLITE_BUILTINS_INT8]\n",
    "# Set the input and output tensors to uint8 (APIs added in r2.3)\n",
    "\n",
    "tflite_model_quant = converter.convert()"
   ]
  },
  {
   "cell_type": "code",
   "execution_count": 15,
   "metadata": {},
   "outputs": [
    {
     "name": "stdout",
     "output_type": "stream",
     "text": [
      "input:  <class 'numpy.float32'>\n",
      "output:  <class 'numpy.float32'>\n"
     ]
    }
   ],
   "source": [
    "interpreter = tf.lite.Interpreter(model_content=tflite_model_quant)\n",
    "input_type = interpreter.get_input_details()[0]['dtype']\n",
    "print('input: ', input_type)\n",
    "output_type = interpreter.get_output_details()[0]['dtype']\n",
    "print('output: ', output_type)"
   ]
  },
  {
   "cell_type": "code",
   "execution_count": 16,
   "metadata": {},
   "outputs": [],
   "source": [
    "import pathlib\n",
    "tflite_model_quant_file = pathlib.Path(\"./model.tflite\")"
   ]
  },
  {
   "cell_type": "code",
   "execution_count": 17,
   "metadata": {},
   "outputs": [
    {
     "data": {
      "text/plain": [
       "WindowsPath('C:/Users/jorge.ruiz/Documents/Documentación/Quantization/Quantize-Inference/demo/bikes_vs_weather/tflite/model.tflite')"
      ]
     },
     "execution_count": 17,
     "metadata": {},
     "output_type": "execute_result"
    }
   ],
   "source": [
    "tflite_model_quant_file.resolve()"
   ]
  },
  {
   "cell_type": "code",
   "execution_count": 18,
   "metadata": {},
   "outputs": [],
   "source": [
    "\n",
    "with open(tflite_model_quant_file, \"wb\") as f:\n",
    "    f.write(tflite_model_quant)"
   ]
  },
  {
   "cell_type": "code",
   "execution_count": 19,
   "metadata": {},
   "outputs": [],
   "source": [
    "predictions = []\n",
    "\n",
    "input_details = interpreter.get_input_details()[0]\n",
    "output_details = interpreter.get_output_details()[0]\n",
    "interpreter.allocate_tensors()\n",
    "\n",
    "\n",
    "\n",
    "for x in data['test_x'].astype(\"float32\"):\n",
    "\n",
    "    input_data = np.expand_dims(x, axis=1).astype(input_details[\"dtype\"])\n",
    "    input_data = np.array([x])\n",
    "\n",
    "    interpreter.set_tensor(input_details[\"index\"], input_data)\n",
    "    interpreter.invoke()\n",
    "    output = interpreter.get_tensor(output_details[\"index\"])[0]\n",
    "    predictions.append(output[0])\n",
    "\n",
    "predictions = np.array(predictions)"
   ]
  },
  {
   "cell_type": "code",
   "execution_count": 20,
   "metadata": {},
   "outputs": [],
   "source": [
    "assert data[\"test_y\"].shape == predictions.shape"
   ]
  },
  {
   "cell_type": "code",
   "execution_count": 26,
   "metadata": {},
   "outputs": [
    {
     "data": {
      "text/plain": [
       "0.009385214104019192"
      ]
     },
     "execution_count": 26,
     "metadata": {},
     "output_type": "execute_result"
    }
   ],
   "source": [
    "np.square(predictions - data['test_y']).mean()\n"
   ]
  },
  {
   "cell_type": "code",
   "execution_count": 22,
   "metadata": {},
   "outputs": [
    {
     "name": "stdout",
     "output_type": "stream",
     "text": [
      "model.tflite\n",
      "Loading model from: model.tflite\n",
      "Writing to: tflite_int8.json\n"
     ]
    }
   ],
   "source": [
    "from itcl_tflite2json import convert\n",
    "model_path = str(tflite_model_quant_file)\n",
    "print(model_path)\n",
    "convert(model_path, \"tflite_int8.json\")"
   ]
  },
  {
   "cell_type": "code",
   "execution_count": 41,
   "metadata": {},
   "outputs": [
    {
     "name": "stdout",
     "output_type": "stream",
     "text": [
      "(106,)\n"
     ]
    }
   ],
   "source": [
    "print(data['test_y'].shape)"
   ]
  },
  {
   "cell_type": "code",
   "execution_count": 44,
   "metadata": {},
   "outputs": [
    {
     "data": {
      "text/plain": [
       "0.009385214104019192"
      ]
     },
     "execution_count": 44,
     "metadata": {},
     "output_type": "execute_result"
    }
   ],
   "source": [
    "from itcl_inference_engine.network.Network import SequentialNetwork\n",
    "\n",
    "net = SequentialNetwork.from_json_file(\"tflite_int8.json\")\n",
    "\n",
    "\n",
    "\n",
    "res = net.infer(data['test_x']).squeeze()\n",
    "\n",
    "np.square(res - data['test_y']).mean()"
   ]
  },
  {
   "cell_type": "code",
   "execution_count": null,
   "metadata": {},
   "outputs": [],
   "source": []
  }
 ],
 "metadata": {
  "kernelspec": {
   "display_name": "Python 3.10.5 ('.venv': poetry)",
   "language": "python",
   "name": "python3"
  },
  "language_info": {
   "codemirror_mode": {
    "name": "ipython",
    "version": 3
   },
   "file_extension": ".py",
   "mimetype": "text/x-python",
   "name": "python",
   "nbconvert_exporter": "python",
   "pygments_lexer": "ipython3",
   "version": "3.10.5"
  },
  "orig_nbformat": 4,
  "vscode": {
   "interpreter": {
    "hash": "ea05026aa6a55cfc5585c0c63cb63d539f3a1a7305bab792a4296882521b8c95"
   }
  }
 },
 "nbformat": 4,
 "nbformat_minor": 2
}
