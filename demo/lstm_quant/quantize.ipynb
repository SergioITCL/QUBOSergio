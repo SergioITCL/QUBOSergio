{
 "cells": [
  {
   "cell_type": "code",
   "execution_count": 1,
   "metadata": {},
   "outputs": [
    {
     "name": "stderr",
     "output_type": "stream",
     "text": [
      "c:\\Users\\jorge.ruiz\\Documents\\projects\\model_optimizers\\itcl-quantization-toolkit\\demo\\.venv\\lib\\site-packages\\tensorflow\\python\\framework\\dtypes.py:246: DeprecationWarning: `np.bool8` is a deprecated alias for `np.bool_`.  (Deprecated NumPy 1.24)\n",
      "  np.bool8: (False, True),\n",
      "c:\\Users\\jorge.ruiz\\Documents\\projects\\model_optimizers\\itcl-quantization-toolkit\\demo\\.venv\\lib\\site-packages\\tensorboard\\compat\\tensorflow_stub\\dtypes.py:326: DeprecationWarning: `np.bool8` is a deprecated alias for `np.bool_`.  (Deprecated NumPy 1.24)\n",
      "  np.bool8: (False, True),\n"
     ]
    },
    {
     "name": "stdout",
     "output_type": "stream",
     "text": [
      "[ INFO ] 11:10:16.916 get_logger logger initialized\n",
      "[ WARNING ] 11:10:16.917 get_logger logger initialized\n",
      "[ ERROR ] 11:10:16.918 get_logger logger initialized\n",
      "[ CRITICAL ] 11:10:16.920 get_logger logger initialized\n"
     ]
    }
   ],
   "source": [
    "%load_ext autoreload\n",
    "%autoreload 2\n",
    "import tensorflow as tf\n",
    "import numpy as np\n",
    "from itcl_quantizer import keras_build\n"
   ]
  },
  {
   "cell_type": "code",
   "execution_count": 2,
   "metadata": {},
   "outputs": [],
   "source": [
    "DATA_PATH = \"data_2_steps\"\n",
    "MODEL_PATH = f\"{}model2steps\"\n",
    "x_train, y_train = np.load(f\"{DATA_PATH}/x_train.npy\"), np.load(f\"{DATA_PATH}/y_train.npy\")\n",
    "\n",
    "\n",
    "rep_dataset_idx = int(len(x_train) * 0.5)\n",
    "rep_dataset_idx = 1"
   ]
  },
  {
   "cell_type": "code",
   "execution_count": 3,
   "metadata": {},
   "outputs": [
    {
     "ename": "OSError",
     "evalue": "No file or directory found at ./model2steps.h5",
     "output_type": "error",
     "traceback": [
      "\u001b[1;31m---------------------------------------------------------------------------\u001b[0m",
      "\u001b[1;31mOSError\u001b[0m                                   Traceback (most recent call last)",
      "Cell \u001b[1;32mIn[3], line 1\u001b[0m\n\u001b[1;32m----> 1\u001b[0m quant_model \u001b[39m=\u001b[39m keras_build(\u001b[39mf\u001b[39;49m\u001b[39m\"\u001b[39;49m\u001b[39m./\u001b[39;49m\u001b[39m{\u001b[39;49;00mMODEL_PATH\u001b[39m}\u001b[39;49;00m\u001b[39m.h5\u001b[39;49m\u001b[39m\"\u001b[39;49m, \u001b[39mf\u001b[39;49m\u001b[39m\"\u001b[39;49m\u001b[39m./\u001b[39;49m\u001b[39m{\u001b[39;49;00mMODEL_PATH\u001b[39m}\u001b[39;49;00m\u001b[39m.json\u001b[39;49m\u001b[39m\"\u001b[39;49m, x_train[:rep_dataset_idx])\n",
      "File \u001b[1;32m~\\Documents\\projects\\model_optimizers\\itcl-quantization-toolkit\\quantizer\\itcl_quantizer\\tensor_extractor\\keras\\keras_builder.py:75\u001b[0m, in \u001b[0;36mbuild\u001b[1;34m(model_path, output_path, representative_input, loss_fn, cfg)\u001b[0m\n\u001b[0;32m     57\u001b[0m \u001b[39mdef\u001b[39;00m \u001b[39mbuild\u001b[39m(\n\u001b[0;32m     58\u001b[0m     model_path: \u001b[39mstr\u001b[39m,\n\u001b[0;32m     59\u001b[0m     output_path: \u001b[39mstr\u001b[39m,\n\u001b[1;32m   (...)\u001b[0m\n\u001b[0;32m     62\u001b[0m     cfg: QuantizerCfg \u001b[39m=\u001b[39m QuantizerCfg(),\n\u001b[0;32m     63\u001b[0m ) \u001b[39m-\u001b[39m\u001b[39m>\u001b[39m Network:\n\u001b[0;32m     64\u001b[0m     \u001b[39m\"\"\"\u001b[39;00m\n\u001b[0;32m     65\u001b[0m \u001b[39m    It takes a Keras model and a representative input, and returns a JSON file that can be used to\u001b[39;00m\n\u001b[0;32m     66\u001b[0m \u001b[39m    generate a TFLite model\u001b[39;00m\n\u001b[1;32m   (...)\u001b[0m\n\u001b[0;32m     73\u001b[0m \u001b[39m      to fine tune the network.\u001b[39;00m\n\u001b[0;32m     74\u001b[0m \u001b[39m    \"\"\"\u001b[39;00m\n\u001b[1;32m---> 75\u001b[0m     model \u001b[39m=\u001b[39m keras\u001b[39m.\u001b[39;49mmodels\u001b[39m.\u001b[39;49mload_model(model_path)\n\u001b[0;32m     76\u001b[0m     \u001b[39mprint\u001b[39m(\u001b[39mf\u001b[39m\u001b[39m\"\u001b[39m\u001b[39mLoaded model \u001b[39m\u001b[39m{\u001b[39;00mmodel_path\u001b[39m}\u001b[39;00m\u001b[39m with \u001b[39m\u001b[39m{\u001b[39;00m\u001b[39mlen\u001b[39m(model\u001b[39m.\u001b[39mlayers)\u001b[39m}\u001b[39;00m\u001b[39m layers\u001b[39m\u001b[39m\"\u001b[39m)\n\u001b[0;32m     77\u001b[0m     \u001b[39m# get layers:\u001b[39;00m\n",
      "File \u001b[1;32mc:\\Users\\jorge.ruiz\\Documents\\projects\\model_optimizers\\itcl-quantization-toolkit\\demo\\.venv\\lib\\site-packages\\keras\\utils\\traceback_utils.py:70\u001b[0m, in \u001b[0;36mfilter_traceback.<locals>.error_handler\u001b[1;34m(*args, **kwargs)\u001b[0m\n\u001b[0;32m     67\u001b[0m     filtered_tb \u001b[39m=\u001b[39m _process_traceback_frames(e\u001b[39m.\u001b[39m__traceback__)\n\u001b[0;32m     68\u001b[0m     \u001b[39m# To get the full stack trace, call:\u001b[39;00m\n\u001b[0;32m     69\u001b[0m     \u001b[39m# `tf.debugging.disable_traceback_filtering()`\u001b[39;00m\n\u001b[1;32m---> 70\u001b[0m     \u001b[39mraise\u001b[39;00m e\u001b[39m.\u001b[39mwith_traceback(filtered_tb) \u001b[39mfrom\u001b[39;00m \u001b[39mNone\u001b[39m\n\u001b[0;32m     71\u001b[0m \u001b[39mfinally\u001b[39;00m:\n\u001b[0;32m     72\u001b[0m     \u001b[39mdel\u001b[39;00m filtered_tb\n",
      "File \u001b[1;32mc:\\Users\\jorge.ruiz\\Documents\\projects\\model_optimizers\\itcl-quantization-toolkit\\demo\\.venv\\lib\\site-packages\\keras\\saving\\save.py:226\u001b[0m, in \u001b[0;36mload_model\u001b[1;34m(filepath, custom_objects, compile, options)\u001b[0m\n\u001b[0;32m    224\u001b[0m \u001b[39mif\u001b[39;00m \u001b[39misinstance\u001b[39m(filepath_str, \u001b[39mstr\u001b[39m):\n\u001b[0;32m    225\u001b[0m     \u001b[39mif\u001b[39;00m \u001b[39mnot\u001b[39;00m tf\u001b[39m.\u001b[39mio\u001b[39m.\u001b[39mgfile\u001b[39m.\u001b[39mexists(filepath_str):\n\u001b[1;32m--> 226\u001b[0m         \u001b[39mraise\u001b[39;00m \u001b[39mIOError\u001b[39;00m(\n\u001b[0;32m    227\u001b[0m             \u001b[39mf\u001b[39m\u001b[39m\"\u001b[39m\u001b[39mNo file or directory found at \u001b[39m\u001b[39m{\u001b[39;00mfilepath_str\u001b[39m}\u001b[39;00m\u001b[39m\"\u001b[39m\n\u001b[0;32m    228\u001b[0m         )\n\u001b[0;32m    230\u001b[0m     \u001b[39mif\u001b[39;00m tf\u001b[39m.\u001b[39mio\u001b[39m.\u001b[39mgfile\u001b[39m.\u001b[39misdir(filepath_str):\n\u001b[0;32m    231\u001b[0m         \u001b[39mreturn\u001b[39;00m saved_model_load\u001b[39m.\u001b[39mload(\n\u001b[0;32m    232\u001b[0m             filepath_str, \u001b[39mcompile\u001b[39m, options\n\u001b[0;32m    233\u001b[0m         )\n",
      "\u001b[1;31mOSError\u001b[0m: No file or directory found at ./model2steps.h5"
     ]
    }
   ],
   "source": [
    "quant_model = keras_build(f\"./{MODEL_PATH}.h5\", f\"./{MODEL_PATH}.json\", x_train[:rep_dataset_idx])"
   ]
  },
  {
   "cell_type": "code",
   "execution_count": null,
   "metadata": {},
   "outputs": [],
   "source": []
  }
 ],
 "metadata": {
  "kernelspec": {
   "display_name": ".venv",
   "language": "python",
   "name": "python3"
  },
  "language_info": {
   "codemirror_mode": {
    "name": "ipython",
    "version": 3
   },
   "file_extension": ".py",
   "mimetype": "text/x-python",
   "name": "python",
   "nbconvert_exporter": "python",
   "pygments_lexer": "ipython3",
   "version": "3.10.5"
  },
  "orig_nbformat": 4,
  "vscode": {
   "interpreter": {
    "hash": "6041aa41b95c93cd1281a81e4735e5fb0c3408d1f09a5c5b56f6588f2d466e6e"
   }
  }
 },
 "nbformat": 4,
 "nbformat_minor": 2
}
