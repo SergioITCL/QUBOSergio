{
 "cells": [
  {
   "cell_type": "code",
   "execution_count": 24,
   "metadata": {},
   "outputs": [],
   "source": [
    "import tensorflow as tf\n",
    "import numpy as np"
   ]
  },
  {
   "cell_type": "code",
   "execution_count": 25,
   "metadata": {},
   "outputs": [],
   "source": [
    "DATA = \"data_1_step\""
   ]
  },
  {
   "cell_type": "code",
   "execution_count": 26,
   "metadata": {},
   "outputs": [],
   "source": [
    "# create a random matrix of shape 1000,32,32\n",
    "x = np.random.rand(10000,1,32)\n",
    "\n",
    "y = x/2\n",
    "\n",
    "x_train, y_train, x_test, y_test = x[:8000], y[:8000], x[8000:], y[8000:]\n"
   ]
  },
  {
   "cell_type": "code",
   "execution_count": 27,
   "metadata": {},
   "outputs": [],
   "source": [
    "# save test and train data\n",
    "np.save(f\"{DATA}/x_train.npy\", x_train)\n",
    "np.save(f\"{DATA}/y_train.npy\", y_train)\n",
    "np.save(f\"{DATA}/x_test.npy\", x_test)\n",
    "np.save(f\"{DATA}/y_test.npy\", y_test)"
   ]
  },
  {
   "cell_type": "code",
   "execution_count": 28,
   "metadata": {},
   "outputs": [],
   "source": [
    "model = tf.keras.Sequential(\n",
    "    [\n",
    "        tf.keras.layers.LSTM(32, return_sequences=True, input_shape=x.shape[1:]),\n",
    "    ]\n",
    ")"
   ]
  },
  {
   "cell_type": "code",
   "execution_count": 29,
   "metadata": {},
   "outputs": [
    {
     "name": "stdout",
     "output_type": "stream",
     "text": [
      "Epoch 1/35\n",
      "250/250 [==============================] - 2s 4ms/step - loss: 0.0283 - val_loss: 0.0174\n",
      "Epoch 2/35\n",
      "250/250 [==============================] - 1s 2ms/step - loss: 0.0148 - val_loss: 0.0121\n",
      "Epoch 3/35\n",
      "250/250 [==============================] - 0s 2ms/step - loss: 0.0098 - val_loss: 0.0077\n",
      "Epoch 4/35\n",
      "250/250 [==============================] - 1s 2ms/step - loss: 0.0060 - val_loss: 0.0046\n",
      "Epoch 5/35\n",
      "250/250 [==============================] - 1s 2ms/step - loss: 0.0037 - val_loss: 0.0029\n",
      "Epoch 6/35\n",
      "250/250 [==============================] - 1s 2ms/step - loss: 0.0024 - val_loss: 0.0019\n",
      "Epoch 7/35\n",
      "250/250 [==============================] - 0s 2ms/step - loss: 0.0016 - val_loss: 0.0013\n",
      "Epoch 8/35\n",
      "250/250 [==============================] - 0s 2ms/step - loss: 0.0011 - val_loss: 8.8534e-04\n",
      "Epoch 9/35\n",
      "250/250 [==============================] - 0s 2ms/step - loss: 7.5402e-04 - val_loss: 6.4666e-04\n",
      "Epoch 10/35\n",
      "250/250 [==============================] - 1s 2ms/step - loss: 5.6362e-04 - val_loss: 4.9445e-04\n",
      "Epoch 11/35\n",
      "250/250 [==============================] - 0s 2ms/step - loss: 4.2849e-04 - val_loss: 3.7306e-04\n",
      "Epoch 12/35\n",
      "250/250 [==============================] - 0s 2ms/step - loss: 3.2859e-04 - val_loss: 2.8820e-04\n",
      "Epoch 13/35\n",
      "250/250 [==============================] - 0s 2ms/step - loss: 2.5809e-04 - val_loss: 2.3091e-04\n",
      "Epoch 14/35\n",
      "250/250 [==============================] - 1s 2ms/step - loss: 2.1181e-04 - val_loss: 1.9379e-04\n",
      "Epoch 15/35\n",
      "250/250 [==============================] - 1s 2ms/step - loss: 1.7957e-04 - val_loss: 1.6529e-04\n",
      "Epoch 16/35\n",
      "250/250 [==============================] - 0s 2ms/step - loss: 1.5504e-04 - val_loss: 1.4502e-04\n",
      "Epoch 17/35\n",
      "250/250 [==============================] - 0s 2ms/step - loss: 1.3623e-04 - val_loss: 1.2812e-04\n",
      "Epoch 18/35\n",
      "250/250 [==============================] - 1s 2ms/step - loss: 1.2149e-04 - val_loss: 1.1434e-04\n",
      "Epoch 19/35\n",
      "250/250 [==============================] - 0s 2ms/step - loss: 1.0961e-04 - val_loss: 1.0515e-04\n",
      "Epoch 20/35\n",
      "250/250 [==============================] - 1s 2ms/step - loss: 1.0008e-04 - val_loss: 9.4943e-05\n",
      "Epoch 21/35\n",
      "250/250 [==============================] - 1s 2ms/step - loss: 9.2076e-05 - val_loss: 8.8086e-05\n",
      "Epoch 22/35\n",
      "250/250 [==============================] - 1s 2ms/step - loss: 8.4937e-05 - val_loss: 8.2238e-05\n",
      "Epoch 23/35\n",
      "250/250 [==============================] - 1s 2ms/step - loss: 7.8208e-05 - val_loss: 7.5844e-05\n",
      "Epoch 24/35\n",
      "250/250 [==============================] - 1s 2ms/step - loss: 7.1740e-05 - val_loss: 6.9039e-05\n",
      "Epoch 25/35\n",
      "250/250 [==============================] - 0s 2ms/step - loss: 6.5130e-05 - val_loss: 6.2201e-05\n",
      "Epoch 26/35\n",
      "250/250 [==============================] - 0s 2ms/step - loss: 5.8641e-05 - val_loss: 5.6842e-05\n",
      "Epoch 27/35\n",
      "250/250 [==============================] - 0s 2ms/step - loss: 5.2891e-05 - val_loss: 5.0795e-05\n",
      "Epoch 28/35\n",
      "250/250 [==============================] - 0s 2ms/step - loss: 4.8007e-05 - val_loss: 4.6268e-05\n",
      "Epoch 29/35\n",
      "250/250 [==============================] - 1s 2ms/step - loss: 4.2763e-05 - val_loss: 4.0137e-05\n",
      "Epoch 30/35\n",
      "250/250 [==============================] - 0s 2ms/step - loss: 3.8416e-05 - val_loss: 3.6411e-05\n",
      "Epoch 31/35\n",
      "250/250 [==============================] - 0s 2ms/step - loss: 3.3360e-05 - val_loss: 3.1557e-05\n",
      "Epoch 32/35\n",
      "250/250 [==============================] - 0s 2ms/step - loss: 2.9571e-05 - val_loss: 2.8627e-05\n",
      "Epoch 33/35\n",
      "250/250 [==============================] - 0s 2ms/step - loss: 2.7170e-05 - val_loss: 2.7082e-05\n",
      "Epoch 34/35\n",
      "250/250 [==============================] - 1s 2ms/step - loss: 2.5724e-05 - val_loss: 2.4984e-05\n",
      "Epoch 35/35\n",
      "250/250 [==============================] - 1s 2ms/step - loss: 2.4663e-05 - val_loss: 2.5249e-05\n"
     ]
    },
    {
     "data": {
      "text/plain": [
       "<keras.callbacks.History at 0x1b1281621a0>"
      ]
     },
     "execution_count": 29,
     "metadata": {},
     "output_type": "execute_result"
    }
   ],
   "source": [
    "model.compile(loss=\"mse\", optimizer=\"adam\")\n",
    "model.fit(x_train, y_train, epochs=35, batch_size=32, validation_data=(x_test, y_test))"
   ]
  },
  {
   "cell_type": "code",
   "execution_count": 30,
   "metadata": {},
   "outputs": [],
   "source": [
    "model.save(f\"{DATA}/model.h5\")"
   ]
  },
  {
   "cell_type": "code",
   "execution_count": 31,
   "metadata": {},
   "outputs": [
    {
     "name": "stdout",
     "output_type": "stream",
     "text": [
      "63/63 [==============================] - 0s 2ms/step\n"
     ]
    }
   ],
   "source": [
    "\n",
    "\n",
    "y_pred = model.predict(x_test)\n",
    "\n",
    "np.save(f\"{DATA}/pred_y_test.npy\", y_pred)\n"
   ]
  },
  {
   "cell_type": "code",
   "execution_count": 32,
   "metadata": {},
   "outputs": [
    {
     "name": "stdout",
     "output_type": "stream",
     "text": [
      "[0.1301962  0.48435974 0.06324951 0.17889497 0.3481464  0.23279497\n",
      " 0.18804729 0.41977203 0.05059027 0.3330152  0.2932272  0.02918231\n",
      " 0.04528664 0.47076136 0.45787755 0.42110646 0.02044077 0.12078676\n",
      " 0.21284291 0.3542964  0.44713664 0.13842623 0.01002558 0.01983075\n",
      " 0.4607955  0.08738382 0.02691748 0.14963081 0.07742516 0.20519003\n",
      " 0.11202329 0.41571012] [1.35068959e-01 4.98840286e-01 6.28348337e-02 1.79260986e-01\n",
      " 3.46023922e-01 2.32449749e-01 1.92244836e-01 4.19822838e-01\n",
      " 5.06888868e-02 3.28109615e-01 2.88262563e-01 2.46039937e-02\n",
      " 4.65203342e-02 4.89345382e-01 4.62452313e-01 4.18619247e-01\n",
      " 9.64158006e-03 1.24078403e-01 2.13796424e-01 3.50659286e-01\n",
      " 4.52834020e-01 1.41786746e-01 3.03940676e-04 1.47092652e-02\n",
      " 4.68274402e-01 9.43935909e-02 1.83547374e-02 1.52655657e-01\n",
      " 8.33609368e-02 2.08253970e-01 1.16855714e-01 4.15525923e-01]\n"
     ]
    }
   ],
   "source": [
    "print(y_pred[0][0], y_test[0][0])"
   ]
  },
  {
   "cell_type": "code",
   "execution_count": null,
   "metadata": {},
   "outputs": [],
   "source": []
  }
 ],
 "metadata": {
  "kernelspec": {
   "display_name": ".venv",
   "language": "python",
   "name": "python3"
  },
  "language_info": {
   "codemirror_mode": {
    "name": "ipython",
    "version": 3
   },
   "file_extension": ".py",
   "mimetype": "text/x-python",
   "name": "python",
   "nbconvert_exporter": "python",
   "pygments_lexer": "ipython3",
   "version": "3.10.5"
  },
  "orig_nbformat": 4,
  "vscode": {
   "interpreter": {
    "hash": "6041aa41b95c93cd1281a81e4735e5fb0c3408d1f09a5c5b56f6588f2d466e6e"
   }
  }
 },
 "nbformat": 4,
 "nbformat_minor": 2
}
