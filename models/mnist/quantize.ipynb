{
 "cells": [
  {
   "cell_type": "code",
   "execution_count": 5,
   "metadata": {},
   "outputs": [
    {
     "name": "stderr",
     "output_type": "stream",
     "text": [
      "c:\\Users\\jorge.ruiz\\Documents\\venvs\\movenet\\lib\\site-packages\\onnx\\mapping.py:27: DeprecationWarning: `np.object` is a deprecated alias for the builtin `object`. To silence this warning, use `object` by itself. Doing this will not modify any behavior and is safe. \n",
      "Deprecated in NumPy 1.20; for more details and guidance: https://numpy.org/devdocs/release/1.20.0-notes.html#deprecations\n",
      "  int(TensorProto.STRING): np.dtype(np.object)\n"
     ]
    }
   ],
   "source": [
    "from onnxruntime.quantization import quantize_static, CalibrationDataReader, QuantFormat, QuantType\n",
    "import tensorflow as tf\n",
    "import onnxruntime\n",
    "import numpy as np\n"
   ]
  },
  {
   "cell_type": "code",
   "execution_count": 6,
   "metadata": {},
   "outputs": [],
   "source": [
    "import tensorflow as tf\n",
    "def h5_to_tf(path=\"./mnist_medium_complexity_float32_sigmoid.h5\"):\n",
    "    model = tf.keras.models.load_model(path)\n",
    "    model.save(\"pb_model\")\n",
    "\n",
    "#h5_to_tf()"
   ]
  },
  {
   "cell_type": "code",
   "execution_count": 23,
   "metadata": {},
   "outputs": [],
   "source": [
    "IN = \"./fp32/mnist_sigmoid_fp32.onnx\"\n",
    "OUT = \"./uint8/mnist_sigmoid_uint8.onnx\""
   ]
  },
  {
   "cell_type": "code",
   "execution_count": 24,
   "metadata": {},
   "outputs": [],
   "source": [
    "class MnistDataReader(CalibrationDataReader):\n",
    "    def __init__(self,):\n",
    "        (x_train, y_train), (x_test, y_test) = tf.keras.datasets.mnist.load_data()\n",
    "        self.x=  x_train.reshape((x_train.shape[0], x_train.shape[1]*x_train.shape[2])).astype(\"float32\") / 255\n",
    "\n",
    "        self.__next_yield = 0\n",
    "\n",
    "    def get_next(self):\n",
    "        session = onnxruntime.InferenceSession(IN, None)\n",
    "        input_name = session.get_inputs()[0].name\n",
    "\n",
    "        if self.__next_yield >= len(self.x):\n",
    "            return None\n",
    "\n",
    "        x = self.x[self.__next_yield]\n",
    "        self.__next_yield += 1\n",
    "        return {input_name: np.expand_dims(x, axis=0)}\n",
    "\n"
   ]
  },
  {
   "cell_type": "code",
   "execution_count": 25,
   "metadata": {},
   "outputs": [
    {
     "name": "stdout",
     "output_type": "stream",
     "text": [
      "(1, 784)\n"
     ]
    },
    {
     "name": "stderr",
     "output_type": "stream",
     "text": [
      "WARNING:root:The original model opset version is 9, which does not support quantization. Please update the model to opset >= 11. Updating the model automatically to opset 11. Please verify the quantized model.\n"
     ]
    }
   ],
   "source": [
    "dr = MnistDataReader()\n",
    "print(list(dr.get_next().values())[0].shape)\n",
    "quantize_static(IN, OUT, dr)"
   ]
  }
 ],
 "metadata": {
  "interpreter": {
   "hash": "8f5e0b380ac114aca4ce18142bcc1e310900089cf0d1a6b31f8ef214f3a545b9"
  },
  "kernelspec": {
   "display_name": "Python 3.7.6 ('movenet')",
   "language": "python",
   "name": "python3"
  },
  "language_info": {
   "codemirror_mode": {
    "name": "ipython",
    "version": 3
   },
   "file_extension": ".py",
   "mimetype": "text/x-python",
   "name": "python",
   "nbconvert_exporter": "python",
   "pygments_lexer": "ipython3",
   "version": "3.7.6"
  },
  "orig_nbformat": 4
 },
 "nbformat": 4,
 "nbformat_minor": 2
}
