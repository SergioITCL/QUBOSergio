{
 "cells": [
  {
   "cell_type": "code",
   "execution_count": 1,
   "metadata": {},
   "outputs": [
    {
     "name": "stderr",
     "output_type": "stream",
     "text": [
      "C:\\Users\\jorge.ruiz\\Anaconda3\\envs\\quant\\lib\\site-packages\\flatbuffers\\compat.py:19: DeprecationWarning: the imp module is deprecated in favour of importlib and slated for removal in Python 3.12; see the module's documentation for alternative uses\n",
      "  import imp\n",
      "C:\\Users\\jorge.ruiz\\Anaconda3\\envs\\quant\\lib\\site-packages\\keras\\utils\\image_utils.py:36: DeprecationWarning: NEAREST is deprecated and will be removed in Pillow 10 (2023-07-01). Use Resampling.NEAREST or Dither.NONE instead.\n",
      "  'nearest': pil_image.NEAREST,\n",
      "C:\\Users\\jorge.ruiz\\Anaconda3\\envs\\quant\\lib\\site-packages\\keras\\utils\\image_utils.py:37: DeprecationWarning: BILINEAR is deprecated and will be removed in Pillow 10 (2023-07-01). Use Resampling.BILINEAR instead.\n",
      "  'bilinear': pil_image.BILINEAR,\n",
      "C:\\Users\\jorge.ruiz\\Anaconda3\\envs\\quant\\lib\\site-packages\\keras\\utils\\image_utils.py:38: DeprecationWarning: BICUBIC is deprecated and will be removed in Pillow 10 (2023-07-01). Use Resampling.BICUBIC instead.\n",
      "  'bicubic': pil_image.BICUBIC,\n",
      "C:\\Users\\jorge.ruiz\\Anaconda3\\envs\\quant\\lib\\site-packages\\keras\\utils\\image_utils.py:39: DeprecationWarning: HAMMING is deprecated and will be removed in Pillow 10 (2023-07-01). Use Resampling.HAMMING instead.\n",
      "  'hamming': pil_image.HAMMING,\n",
      "C:\\Users\\jorge.ruiz\\Anaconda3\\envs\\quant\\lib\\site-packages\\keras\\utils\\image_utils.py:40: DeprecationWarning: BOX is deprecated and will be removed in Pillow 10 (2023-07-01). Use Resampling.BOX instead.\n",
      "  'box': pil_image.BOX,\n",
      "C:\\Users\\jorge.ruiz\\Anaconda3\\envs\\quant\\lib\\site-packages\\keras\\utils\\image_utils.py:41: DeprecationWarning: LANCZOS is deprecated and will be removed in Pillow 10 (2023-07-01). Use Resampling.LANCZOS instead.\n",
      "  'lanczos': pil_image.LANCZOS,\n"
     ]
    }
   ],
   "source": [
    "from tensorflow import lite as tflite\n",
    "import tensorflow as tf\n",
    "from tensorflow import keras\n",
    "import numpy as np\n",
    "import matplotlib.pyplot as plt\n",
    "from sklearn.model_selection import train_test_split\n",
    "from sklearn.preprocessing import MinMaxScaler"
   ]
  },
  {
   "cell_type": "code",
   "execution_count": 3,
   "metadata": {},
   "outputs": [],
   "source": [
    "fn = lambda x: x ** 3"
   ]
  },
  {
   "cell_type": "code",
   "execution_count": 4,
   "metadata": {},
   "outputs": [],
   "source": [
    "train_x = linespace = np.expand_dims(np.arange(-10, 10, 0.005), axis=1) \n",
    "\n",
    "scaler = MinMaxScaler()\n",
    "scaler.fit(train_x)\n",
    "\n",
    "train_y = fn(train_x)\n",
    "train_x = scaler.transform(train_x)\n",
    "train_y = scaler.transform(train_y)"
   ]
  },
  {
   "cell_type": "code",
   "execution_count": 22,
   "metadata": {},
   "outputs": [
    {
     "name": "stdout",
     "output_type": "stream",
     "text": [
      "MSE: 0.5283531064700105\n"
     ]
    }
   ],
   "source": [
    "from pprint import pprint\n",
    "interpreter = tflite.Interpreter(model_path=\"x3 727loss.tflite\",experimental_preserve_all_tensors=True )\n",
    "interpreter.allocate_tensors()\n",
    "interpreter.allocate_tensors()\n",
    "\n",
    "\n",
    "predicted = []\n",
    "input_details = interpreter.get_input_details()[0]\n",
    "output_details = interpreter.get_output_details()[0]\n",
    "\n",
    "interpreter.set_tensor(input_details[\"index\"], np.array([[0.5]], dtype=np.float32))\n",
    "interpreter.invoke()\n",
    "output = interpreter.get_tensor(output_details[\"index\"])[0]\n",
    "\n",
    "tensors = interpreter.get_tensor_details()\n",
    "#print(tensors)\n",
    "\n",
    "#for i in range(len(tensors)):\n",
    "#    print(tensors[i][\"name\"], tensors[i][\"shape\"])\n",
    "#    pprint(interpreter.get_tensor(i))\n",
    "\n",
    "\n",
    "\n",
    "for x, y in zip (train_x, train_y):\n",
    "    interpreter.set_tensor(input_details[\"index\"], [x.astype(\"float32\")])\n",
    "    interpreter.invoke()\n",
    "    output = interpreter.get_tensor(output_details[\"index\"])[0]\n",
    "\n",
    "    predicted.append(output[0])\n",
    "\n",
    "predicted = np.expand_dims(np.array(predicted), axis=1)\n",
    "mse = np.mean((predicted - train_y) ** 2)\n",
    "print(f\"MSE: {mse}\")"
   ]
  },
  {
   "cell_type": "code",
   "execution_count": null,
   "metadata": {},
   "outputs": [],
   "source": []
  }
 ],
 "metadata": {
  "interpreter": {
   "hash": "7578eb262ee84d61ee265704c9a17ea7c8efde085669ca2c8d3035f021b88d1c"
  },
  "kernelspec": {
   "display_name": "Python 3.10.4 ('quant')",
   "language": "python",
   "name": "python3"
  },
  "language_info": {
   "codemirror_mode": {
    "name": "ipython",
    "version": 3
   },
   "file_extension": ".py",
   "mimetype": "text/x-python",
   "name": "python",
   "nbconvert_exporter": "python",
   "pygments_lexer": "ipython3",
   "version": "3.10.4"
  },
  "orig_nbformat": 4
 },
 "nbformat": 4,
 "nbformat_minor": 2
}
